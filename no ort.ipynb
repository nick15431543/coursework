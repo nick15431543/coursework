{
 "cells": [
  {
   "cell_type": "code",
   "execution_count": 10,
   "id": "extended-navigator",
   "metadata": {},
   "outputs": [],
   "source": [
    "import numpy as np\n",
    "import copy\n",
    "import scipy.io"
   ]
  },
  {
   "cell_type": "code",
   "execution_count": 11,
   "id": "exciting-soundtrack",
   "metadata": {},
   "outputs": [],
   "source": [
    "mat = scipy.io.loadmat('/Users/nikitakocherin/Downloads/BlackBoxData.mat')\n",
    "x = mat['x'][0]\n",
    "y = mat['y'][0]\n",
    "x = (x / np.linalg.norm(x))\n",
    "y = (y / np.linalg.norm(y))"
   ]
  },
  {
   "cell_type": "code",
   "execution_count": 12,
   "id": "japanese-springfield",
   "metadata": {},
   "outputs": [],
   "source": [
    "def generate_first_monom_dict(I, x):\n",
    "    def generate_first_mon(bias, x):\n",
    "        if bias == 0:\n",
    "                return x\n",
    "        base = np.zeros(len(x), dtype='complex')\n",
    "        if bias < 0:\n",
    "            for i in range(-bias, len(x)):\n",
    "                base[i] = x[i + bias]\n",
    "        elif bias > 0:\n",
    "            for i in range(len(x) - bias):\n",
    "                base[i] = x[i + bias]\n",
    "        return base\n",
    "    result = []\n",
    "    for i in range(-I, I + 1):\n",
    "        result.append(generate_first_mon(i, x))\n",
    "    return result"
   ]
  },
  {
   "cell_type": "code",
   "execution_count": 13,
   "id": "operational-clerk",
   "metadata": {},
   "outputs": [],
   "source": [
    "def generate_monom_dict(I, D, x):\n",
    "    def generate_mon(bias, degree, x):\n",
    "        if bias == 0:\n",
    "            return np.power(np.absolute(x), degree)\n",
    "        base = np.zeros(len(x), dtype='complex')\n",
    "        if bias < 0:\n",
    "            for i in range(-bias, len(x)):\n",
    "                base[i] = x[i + bias]\n",
    "        elif bias > 0:\n",
    "            for i in range(len(x) - bias):\n",
    "                base[i] = x[i + bias]\n",
    "        return np.power(np.absolute(base), degree)\n",
    "    result = []\n",
    "    for i in range(-I, I + 1):\n",
    "        for j in range(D + 1):\n",
    "            result.append(generate_mon(i, j, x))\n",
    "    return result"
   ]
  },
  {
   "cell_type": "code",
   "execution_count": 14,
   "id": "distinguished-methodology",
   "metadata": {},
   "outputs": [],
   "source": [
    "def multiplicate(count, monom_dict):\n",
    "    if count == 1:\n",
    "        for i in monom_dict:\n",
    "            yield i\n",
    "    elif count == 2:\n",
    "        for i in monom_dict:\n",
    "            for j in monom_dict:\n",
    "                yield i * j\n",
    "    elif count == 3:\n",
    "        for i in monom_dict:\n",
    "            for j in monom_dict:\n",
    "                for k in monom_dict:\n",
    "                    yield i * j * k"
   ]
  },
  {
   "cell_type": "code",
   "execution_count": 18,
   "id": "blank-monkey",
   "metadata": {},
   "outputs": [],
   "source": [
    "def generate_real_dict_generator(I, D, M, x):\n",
    "    monom_dict = generate_monom_dict(I, D, x)\n",
    "    first_mon = generate_first_monom_dict(I, x)\n",
    "    for i in first_mon:\n",
    "        to_mult = multiplicate(M, monom_dict)\n",
    "        for j in to_mult:\n",
    "            k = i * j\n",
    "            k = k / np.linalg.norm(k)\n",
    "            yield k "
   ]
  },
  {
   "cell_type": "code",
   "execution_count": 21,
   "id": "naked-vulnerability",
   "metadata": {},
   "outputs": [],
   "source": [
    "#y -- приближаем с помощью x\n",
    "#u -- остаток, изначальный остаток -- y\n",
    "#\n",
    "def approximate_without_saving(x, y, I, D, M, flag=True):\n",
    "    u_n = y\n",
    "    iter = 0\n",
    "    v_arr = []\n",
    "    vector_norm = []\n",
    "    norm_u_n_prev = 0\n",
    "    u_n_prev = copy.deepcopy(u_n)\n",
    "    while(np.linalg.norm(u_n) > 0.01 and iter < 1000):\n",
    "        vector_norm.append(np.linalg.norm(u_n))\n",
    "        if abs(np.linalg.norm(u_n) - norm_u_n_prev) < 0.0000001:\n",
    "            break\n",
    "        norm_u_n_prev = np.linalg.norm(u_n)\n",
    "        v_n1 = None\n",
    "        val = 0\n",
    "        my_dict = generate_real_dict_generator(I, D, M, x)\n",
    "        for i in my_dict:\n",
    "            s = np.absolute(np.vdot(u_n, i))\n",
    "            nor = abs(s)\n",
    "            if nor > val:\n",
    "                v_n1 = i\n",
    "                val = nor\n",
    "        h_n1_wave = copy.deepcopy(v_n1)\n",
    "        if flag:\n",
    "            for i in v_arr:\n",
    "                #print(\"iter\", iter)\n",
    "                #print(np.vdot(v_n1, i), np.vdot(i, v_n1))\n",
    "                h_n1_wave = h_n1_wave - np.vdot(i, v_n1) * i\n",
    "        h_n1 = h_n1_wave / np.linalg.norm(h_n1_wave)\n",
    "        v_arr.append(h_n1)\n",
    "        u_n = u_n - np.vdot(h_n1, u_n) * h_n1 #поменял\n",
    "        iter += 1\n",
    "        if iter % 20 == 0:\n",
    "            print(np.linalg.norm(u_n))\n",
    "    print(np.linalg.norm(u_n), \"iter:\", iter)\n",
    "    return vector_norm"
   ]
  },
  {
   "cell_type": "code",
   "execution_count": 22,
   "id": "gothic-worry",
   "metadata": {},
   "outputs": [
    {
     "name": "stdout",
     "output_type": "stream",
     "text": [
      "0.11128126586900108\n",
      "0.09986014158463716\n",
      "0.09112624265971817\n",
      "0.08432935343427764\n",
      "0.07912715457580209\n",
      "0.07534130826442093\n",
      "0.0721439803203222\n",
      "0.06970033730010385\n",
      "0.0677223543414777\n",
      "0.06601428977989882\n",
      "0.06472392071466573\n",
      "0.06362069957869074\n",
      "0.06276534423336066\n",
      "0.06207089993450143\n",
      "0.06141572873603459\n",
      "0.060882033775814214\n",
      "0.06039673008660622\n",
      "0.05996638716602934\n",
      "0.05959800770138612\n",
      "0.05927130799168378\n",
      "0.05897077652276462\n",
      "0.058696413752660756\n",
      "0.058453792771223465\n",
      "0.05824620593844652\n",
      "0.05803193499831493\n",
      "0.05786417341667071\n",
      "0.05768235431255373\n",
      "0.057508926719268494\n",
      "0.05735231130961205\n",
      "0.057197438929515926\n",
      "0.05705520238566508\n",
      "0.05692938826627151\n",
      "0.05680881924333436\n",
      "0.056689674305829295\n",
      "0.05657366476928492\n",
      "0.056472003637721355\n",
      "0.05636068454679526\n",
      "0.056258314005887274\n",
      "0.05616160028583652\n",
      "0.0560693297509504\n",
      "0.05598388823851755\n",
      "0.05589366287824777\n",
      "0.0558123893228947\n",
      "0.055733111747252\n",
      "0.055651876814320114\n",
      "0.05558588652423488\n",
      "0.05551115994261018\n",
      "0.055443543445916864\n",
      "0.05537750093379218\n",
      "0.05531771566351598\n",
      "0.05531771566351598 iter: 1000\n",
      "CPU times: user 40min 56s, sys: 43 s, total: 41min 39s\n",
      "Wall time: 41min 50s\n"
     ]
    }
   ],
   "source": [
    "%%time\n",
    "v_norm_222_no_ort = approximate_without_saving(x, y, 2, 2, 2, flag=False)"
   ]
  },
  {
   "cell_type": "code",
   "execution_count": 23,
   "id": "fitting-circulation",
   "metadata": {},
   "outputs": [
    {
     "name": "stdout",
     "output_type": "stream",
     "text": [
      "0.06538489239939564\n",
      "0.05583293902304306\n",
      "0.05003677189411938\n",
      "0.04739865688126172\n",
      "0.04217663780605666\n",
      "0.03645991573276225\n",
      "0.03470083535171343\n",
      "0.03308249723319386\n",
      "0.03222761634072152\n",
      "0.03144936901175746\n",
      "0.031121265956730707\n",
      "0.030736246638154663\n",
      "0.03059678039165769\n",
      "0.030519390722423607\n",
      "0.030508246876823138 iter: 286\n",
      "CPU times: user 11min 25s, sys: 17.2 s, total: 11min 42s\n",
      "Wall time: 11min 43s\n"
     ]
    }
   ],
   "source": [
    "%%time\n",
    "u_norm_222 = approximate_without_saving(x, y, 2, 2, 2)"
   ]
  },
  {
   "cell_type": "code",
   "execution_count": 27,
   "id": "cosmetic-heaven",
   "metadata": {},
   "outputs": [
    {
     "data": {
      "text/plain": [
       "<matplotlib.legend.Legend at 0x117e61220>"
      ]
     },
     "execution_count": 27,
     "metadata": {},
     "output_type": "execute_result"
    },
    {
     "data": {
      "image/png": "[encoded data removed]",
      "text/plain": [
       "<Figure size 432x288 with 1 Axes>"
      ]
     },
     "metadata": {
      "needs_background": "light"
     },
     "output_type": "display_data"
    }
   ],
   "source": [
    "import matplotlib.pyplot as plt\n",
    "fig, ax = plt.subplots() \n",
    "ax.plot(v_norm_222_no_ort[20:], label=\"222_no_ort\")\n",
    "ax.plot(u_norm_222[20:], label=\"222_ort\")\n",
    "ax.set_xlabel('iter')\n",
    "ax.set_ylabel('||u_n||')\n",
    "ax.legend()"
   ]
  }
 ],
 "metadata": {
  "kernelspec": {
   "display_name": "Python 3",
   "language": "python",
   "name": "python3"
  },
  "language_info": {
   "codemirror_mode": {
    "name": "ipython",
    "version": 3
   },
   "file_extension": ".py",
   "mimetype": "text/x-python",
   "name": "python",
   "nbconvert_exporter": "python",
   "pygments_lexer": "ipython3",
   "version": "3.9.1"
  }
 },
 "nbformat": 4,
 "nbformat_minor": 5
}
