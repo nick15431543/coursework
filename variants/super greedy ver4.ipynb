{
 "cells": [
  {
   "cell_type": "code",
   "execution_count": 1,
   "id": "informative-cornwall",
   "metadata": {},
   "outputs": [],
   "source": [
    "import numpy as np\n",
    "import copy\n",
    "import scipy.io"
   ]
  },
  {
   "cell_type": "code",
   "execution_count": 2,
   "id": "occupational-laugh",
   "metadata": {},
   "outputs": [],
   "source": [
    "mat = scipy.io.loadmat('/Users/nikitakocherin/Downloads/BlackBoxData.mat')\n",
    "x = mat['x'][0]\n",
    "y = mat['y'][0]\n",
    "x = (x / np.linalg.norm(x))\n",
    "y = (y / np.linalg.norm(y))"
   ]
  },
  {
   "cell_type": "code",
   "execution_count": 3,
   "id": "accurate-remains",
   "metadata": {},
   "outputs": [],
   "source": [
    "def generate_first_monom_dict(I, x):\n",
    "    def generate_first_mon(bias, x):\n",
    "        if bias == 0:\n",
    "                return x\n",
    "        base = np.zeros(len(x), dtype='complex')\n",
    "        if bias < 0:\n",
    "            for i in range(-bias, len(x)):\n",
    "                base[i] = x[i + bias]\n",
    "        elif bias > 0:\n",
    "            for i in range(len(x) - bias):\n",
    "                base[i] = x[i + bias]\n",
    "        return base\n",
    "    result = []\n",
    "    for i in range(-I, I + 1):\n",
    "        result.append(generate_first_mon(i, x))\n",
    "    return result"
   ]
  },
  {
   "cell_type": "code",
   "execution_count": 4,
   "id": "interested-entity",
   "metadata": {},
   "outputs": [],
   "source": [
    "def generate_monom_dict(I, D, x):\n",
    "    def generate_mon(bias, degree, x):\n",
    "        if bias == 0:\n",
    "            return np.power(np.absolute(x), degree)\n",
    "        base = np.zeros(len(x), dtype='complex')\n",
    "        if bias < 0:\n",
    "            for i in range(-bias, len(x)):\n",
    "                base[i] = x[i + bias]\n",
    "        elif bias > 0:\n",
    "            for i in range(len(x) - bias):\n",
    "                base[i] = x[i + bias]\n",
    "        return np.power(np.absolute(base), degree)\n",
    "    result = []\n",
    "    for i in range(-I, I + 1):\n",
    "        for j in range(D + 1):\n",
    "            result.append(generate_mon(i, j, x))\n",
    "    return result"
   ]
  },
  {
   "cell_type": "code",
   "execution_count": 5,
   "id": "dominican-disability",
   "metadata": {},
   "outputs": [],
   "source": [
    "def multiplicate(count, monom_dict):\n",
    "    if count == 1:\n",
    "        for i in monom_dict:\n",
    "            yield i\n",
    "    elif count == 2:\n",
    "        for i in monom_dict:\n",
    "            for j in monom_dict:\n",
    "                yield i * j\n",
    "    elif count == 3:\n",
    "        for i in monom_dict:\n",
    "            for j in monom_dict:\n",
    "                for k in monom_dict:\n",
    "                    yield i * j * k"
   ]
  },
  {
   "cell_type": "code",
   "execution_count": 6,
   "id": "monthly-vegetarian",
   "metadata": {},
   "outputs": [],
   "source": [
    "def generate_real_dict_generator_subset(I, D, M, x, num_sub, divider):\n",
    "    monom_dict = generate_monom_dict(I, D, x)\n",
    "    first_mon = generate_first_monom_dict(I, x)\n",
    "    counter = 0\n",
    "    for i in first_mon:\n",
    "        to_mult = multiplicate(M, monom_dict)\n",
    "        for j in to_mult:\n",
    "            if counter % divider == num_sub:\n",
    "                k = i * j\n",
    "                k = k / np.linalg.norm(k)\n",
    "                counter += 1\n",
    "                yield k    \n",
    "            else:\n",
    "                counter += 1"
   ]
  },
  {
   "cell_type": "code",
   "execution_count": 8,
   "id": "photographic-armenia",
   "metadata": {},
   "outputs": [],
   "source": [
    "def approximate_without_saving(x, y, I, D, M, divider, flag=True):\n",
    "    u_n = y\n",
    "    iter = 0\n",
    "    v_arr = []\n",
    "    vector_norm = []\n",
    "    norm_u_n_prev = 0\n",
    "    u_n_prev = copy.deepcopy(u_n)\n",
    "    while(np.linalg.norm(u_n) > 0.01 and iter < 1000):\n",
    "        vector_norm.append(np.linalg.norm(u_n))\n",
    "        if abs(np.linalg.norm(u_n) - norm_u_n_prev) < 0.0000001:\n",
    "            break\n",
    "        norm_u_n_prev = np.linalg.norm(u_n)\n",
    "        for j in range(divider):\n",
    "            v_n1 = None\n",
    "            val = 0\n",
    "            my_dict = generate_real_dict_generator_subset(I, D, M, x, j, divider)\n",
    "            for i in my_dict:\n",
    "                s = np.absolute(np.vdot(u_n, i))\n",
    "                nor = abs(s)\n",
    "                if nor > val:\n",
    "                    v_n1 = i\n",
    "                    val = nor\n",
    "            h_n1_wave = copy.deepcopy(v_n1)\n",
    "            if flag:\n",
    "                for i in v_arr:\n",
    "                    #print(\"iter\", iter)\n",
    "                    #print(np.vdot(v_n1, i), np.vdot(i, v_n1))\n",
    "                    h_n1_wave = h_n1_wave - np.vdot(i, v_n1) * i\n",
    "            h_n1 = h_n1_wave / np.linalg.norm(h_n1_wave)\n",
    "            if len(v_arr) < 150:\n",
    "                v_arr.append(h_n1)\n",
    "            u_n = u_n - np.vdot(h_n1, u_n) * h_n1 #поменял\n",
    "        iter += 1\n",
    "        if iter % 2 == 0:\n",
    "            print(np.linalg.norm(u_n))\n",
    "    print(np.linalg.norm(u_n), \"iter:\", iter)\n",
    "    return vector_norm"
   ]
  },
  {
   "cell_type": "code",
   "execution_count": 9,
   "id": "preliminary-editing",
   "metadata": {},
   "outputs": [
    {
     "name": "stdout",
     "output_type": "stream",
     "text": [
      "0.03949579846307924\n",
      "0.032458568524001044\n",
      "0.031302582077207305\n",
      "0.030531262479540525\n",
      "0.030287321915413612\n",
      "0.030091929341723028\n",
      "0.02998770512534428\n",
      "0.02978688177402943\n",
      "0.029719296721695886\n",
      "0.029614502820911104\n",
      "0.02949558751551918\n",
      "0.029359532690464825\n",
      "0.029273031267565607\n",
      "0.02922089097204303\n",
      "0.029176687729078478\n",
      "0.029118668150433232\n",
      "0.029077828732634613\n",
      "0.029031847376081478\n",
      "0.028987762938197534\n",
      "0.028960185429054982\n"
     ]
    },
    {
     "ename": "KeyboardInterrupt",
     "evalue": "",
     "output_type": "error",
     "traceback": [
      "\u001b[0;31m---------------------------------------------------------------------------\u001b[0m",
      "\u001b[0;31mKeyboardInterrupt\u001b[0m                         Traceback (most recent call last)",
      "\u001b[0;32m<timed exec>\u001b[0m in \u001b[0;36m<module>\u001b[0;34m\u001b[0m\n",
      "\u001b[0;32m<ipython-input-8-dbe22aed41ea>\u001b[0m in \u001b[0;36mapproximate_without_saving\u001b[0;34m(x, y, I, D, M, divider, flag)\u001b[0m\n\u001b[1;32m     15\u001b[0m             \u001b[0mval\u001b[0m \u001b[0;34m=\u001b[0m \u001b[0;36m0\u001b[0m\u001b[0;34m\u001b[0m\u001b[0;34m\u001b[0m\u001b[0m\n\u001b[1;32m     16\u001b[0m             \u001b[0mmy_dict\u001b[0m \u001b[0;34m=\u001b[0m \u001b[0mgenerate_real_dict_generator_subset\u001b[0m\u001b[0;34m(\u001b[0m\u001b[0mI\u001b[0m\u001b[0;34m,\u001b[0m \u001b[0mD\u001b[0m\u001b[0;34m,\u001b[0m \u001b[0mM\u001b[0m\u001b[0;34m,\u001b[0m \u001b[0mx\u001b[0m\u001b[0;34m,\u001b[0m \u001b[0mj\u001b[0m\u001b[0;34m,\u001b[0m \u001b[0mdivider\u001b[0m\u001b[0;34m)\u001b[0m\u001b[0;34m\u001b[0m\u001b[0;34m\u001b[0m\u001b[0m\n\u001b[0;32m---> 17\u001b[0;31m             \u001b[0;32mfor\u001b[0m \u001b[0mi\u001b[0m \u001b[0;32min\u001b[0m \u001b[0mmy_dict\u001b[0m\u001b[0;34m:\u001b[0m\u001b[0;34m\u001b[0m\u001b[0;34m\u001b[0m\u001b[0m\n\u001b[0m\u001b[1;32m     18\u001b[0m                 \u001b[0ms\u001b[0m \u001b[0;34m=\u001b[0m \u001b[0mnp\u001b[0m\u001b[0;34m.\u001b[0m\u001b[0mabsolute\u001b[0m\u001b[0;34m(\u001b[0m\u001b[0mnp\u001b[0m\u001b[0;34m.\u001b[0m\u001b[0mvdot\u001b[0m\u001b[0;34m(\u001b[0m\u001b[0mu_n\u001b[0m\u001b[0;34m,\u001b[0m \u001b[0mi\u001b[0m\u001b[0;34m)\u001b[0m\u001b[0;34m)\u001b[0m\u001b[0;34m\u001b[0m\u001b[0;34m\u001b[0m\u001b[0m\n\u001b[1;32m     19\u001b[0m                 \u001b[0mnor\u001b[0m \u001b[0;34m=\u001b[0m \u001b[0mabs\u001b[0m\u001b[0;34m(\u001b[0m\u001b[0ms\u001b[0m\u001b[0;34m)\u001b[0m\u001b[0;34m\u001b[0m\u001b[0;34m\u001b[0m\u001b[0m\n",
      "\u001b[0;32m<ipython-input-6-6353fb0c50bf>\u001b[0m in \u001b[0;36mgenerate_real_dict_generator_subset\u001b[0;34m(I, D, M, x, num_sub, divider)\u001b[0m\n\u001b[1;32m      6\u001b[0m         \u001b[0mto_mult\u001b[0m \u001b[0;34m=\u001b[0m \u001b[0mmultiplicate\u001b[0m\u001b[0;34m(\u001b[0m\u001b[0mM\u001b[0m\u001b[0;34m,\u001b[0m \u001b[0mmonom_dict\u001b[0m\u001b[0;34m)\u001b[0m\u001b[0;34m\u001b[0m\u001b[0;34m\u001b[0m\u001b[0m\n\u001b[1;32m      7\u001b[0m         \u001b[0;32mfor\u001b[0m \u001b[0mj\u001b[0m \u001b[0;32min\u001b[0m \u001b[0mto_mult\u001b[0m\u001b[0;34m:\u001b[0m\u001b[0;34m\u001b[0m\u001b[0;34m\u001b[0m\u001b[0m\n\u001b[0;32m----> 8\u001b[0;31m             \u001b[0;32mif\u001b[0m \u001b[0mcounter\u001b[0m \u001b[0;34m%\u001b[0m \u001b[0mdivider\u001b[0m \u001b[0;34m==\u001b[0m \u001b[0mnum_sub\u001b[0m\u001b[0;34m:\u001b[0m\u001b[0;34m\u001b[0m\u001b[0;34m\u001b[0m\u001b[0m\n\u001b[0m\u001b[1;32m      9\u001b[0m                 \u001b[0mk\u001b[0m \u001b[0;34m=\u001b[0m \u001b[0mi\u001b[0m \u001b[0;34m*\u001b[0m \u001b[0mj\u001b[0m\u001b[0;34m\u001b[0m\u001b[0;34m\u001b[0m\u001b[0m\n\u001b[1;32m     10\u001b[0m                 \u001b[0mk\u001b[0m \u001b[0;34m=\u001b[0m \u001b[0mk\u001b[0m \u001b[0;34m/\u001b[0m \u001b[0mnp\u001b[0m\u001b[0;34m.\u001b[0m\u001b[0mlinalg\u001b[0m\u001b[0;34m.\u001b[0m\u001b[0mnorm\u001b[0m\u001b[0;34m(\u001b[0m\u001b[0mk\u001b[0m\u001b[0;34m)\u001b[0m\u001b[0;34m\u001b[0m\u001b[0;34m\u001b[0m\u001b[0m\n",
      "\u001b[0;31mKeyboardInterrupt\u001b[0m: "
     ]
    }
   ],
   "source": [
    "%%time\n",
    "u_norm_50 = approximate_without_saving(x, y, 2, 3, 2, 50)"
   ]
  },
  {
   "cell_type": "code",
   "execution_count": null,
   "id": "adjusted-customer",
   "metadata": {},
   "outputs": [],
   "source": []
  }
 ],
 "metadata": {
  "kernelspec": {
   "display_name": "Python 3",
   "language": "python",
   "name": "python3"
  },
  "language_info": {
   "codemirror_mode": {
    "name": "ipython",
    "version": 3
   },
   "file_extension": ".py",
   "mimetype": "text/x-python",
   "name": "python",
   "nbconvert_exporter": "python",
   "pygments_lexer": "ipython3",
   "version": "3.9.1"
  }
 },
 "nbformat": 4,
 "nbformat_minor": 5
}
