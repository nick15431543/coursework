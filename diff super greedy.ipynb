{
 "cells": [
  {
   "cell_type": "code",
   "execution_count": 1,
   "id": "sought-northeast",
   "metadata": {},
   "outputs": [],
   "source": [
    "import numpy as np\n",
    "import copy\n",
    "import scipy.io"
   ]
  },
  {
   "cell_type": "code",
   "execution_count": 2,
   "id": "prescribed-manhattan",
   "metadata": {},
   "outputs": [],
   "source": [
    "mat = scipy.io.loadmat('/Users/nikitakocherin/Downloads/BlackBoxData.mat')\n",
    "x = mat['x'][0]\n",
    "y = mat['y'][0]\n",
    "x = (x / np.linalg.norm(x))\n",
    "y = (y / np.linalg.norm(y))"
   ]
  },
  {
   "cell_type": "code",
   "execution_count": 3,
   "id": "naughty-hotel",
   "metadata": {},
   "outputs": [],
   "source": [
    "def generate_first_monom_dict(I, x):\n",
    "    def generate_first_mon(bias, x):\n",
    "        if bias == 0:\n",
    "                return x\n",
    "        base = np.zeros(len(x), dtype='complex')\n",
    "        if bias < 0:\n",
    "            for i in range(-bias, len(x)):\n",
    "                base[i] = x[i + bias]\n",
    "        elif bias > 0:\n",
    "            for i in range(len(x) - bias):\n",
    "                base[i] = x[i + bias]\n",
    "        return base\n",
    "    result = []\n",
    "    for i in range(-I, I + 1):\n",
    "        result.append(generate_first_mon(i, x))\n",
    "    return result"
   ]
  },
  {
   "cell_type": "code",
   "execution_count": 4,
   "id": "inclusive-father",
   "metadata": {},
   "outputs": [],
   "source": [
    "def generate_monom_dict(I, D, x):\n",
    "    def generate_mon(bias, degree, x):\n",
    "        if bias == 0:\n",
    "            return np.power(np.absolute(x), degree)\n",
    "        base = np.zeros(len(x), dtype='complex')\n",
    "        if bias < 0:\n",
    "            for i in range(-bias, len(x)):\n",
    "                base[i] = x[i + bias]\n",
    "        elif bias > 0:\n",
    "            for i in range(len(x) - bias):\n",
    "                base[i] = x[i + bias]\n",
    "        return np.power(np.absolute(base), degree)\n",
    "    result = []\n",
    "    for i in range(-I, I + 1):\n",
    "        for j in range(D + 1):\n",
    "            result.append(generate_mon(i, j, x))\n",
    "    return result"
   ]
  },
  {
   "cell_type": "code",
   "execution_count": 5,
   "id": "comic-prague",
   "metadata": {},
   "outputs": [],
   "source": [
    "def multiplicate(count, monom_dict):\n",
    "    if count == 1:\n",
    "        for i in monom_dict:\n",
    "            yield i\n",
    "    elif count == 2:\n",
    "        for i in monom_dict:\n",
    "            for j in monom_dict:\n",
    "                yield i * j\n",
    "    elif count == 3:\n",
    "        for i in monom_dict:\n",
    "            for j in monom_dict:\n",
    "                for k in monom_dict:\n",
    "                    yield i * j * k"
   ]
  },
  {
   "cell_type": "code",
   "execution_count": 6,
   "id": "enabling-annual",
   "metadata": {},
   "outputs": [],
   "source": [
    "def generate_real_dict_generator_subset(I, D, M, x, num_sub, divider):\n",
    "    monom_dict = generate_monom_dict(I, D, x)\n",
    "    first_mon = generate_first_monom_dict(I, x)\n",
    "    counter = 0\n",
    "    for i in first_mon:\n",
    "        to_mult = multiplicate(M, monom_dict)\n",
    "        for j in to_mult:\n",
    "            if counter % divider == num_sub:\n",
    "                k = i * j\n",
    "                k = k / np.linalg.norm(k)\n",
    "                counter += 1\n",
    "                yield k    \n",
    "            else:\n",
    "                counter += 1"
   ]
  },
  {
   "cell_type": "code",
   "execution_count": 96,
   "id": "bored-melbourne",
   "metadata": {},
   "outputs": [],
   "source": [
    "def approximate_without_saving(x, y, I, D, M, divider, flag=True):\n",
    "    u_n = y\n",
    "    iter = 0\n",
    "    v_arr = []\n",
    "    vector_norm = []\n",
    "    norm_u_n_prev = 0\n",
    "    u_n_prev = copy.deepcopy(u_n)\n",
    "    while(np.linalg.norm(u_n) > 0.01 and iter < 1000):\n",
    "        vector_norm.append(np.linalg.norm(u_n))\n",
    "        if abs(np.linalg.norm(u_n) - norm_u_n_prev) < 0.0000001:\n",
    "            break\n",
    "        norm_u_n_prev = np.linalg.norm(u_n)\n",
    "        for j in range(divider):\n",
    "            v_n1 = None\n",
    "            val = 0\n",
    "            my_dict = generate_real_dict_generator_subset(I, D, M, x, j, divider)\n",
    "            for i in my_dict:\n",
    "                s = np.absolute(np.vdot(u_n, i))\n",
    "                nor = abs(s)\n",
    "                if nor > val:\n",
    "                    v_n1 = i\n",
    "                    val = nor\n",
    "            h_n1_wave = copy.deepcopy(v_n1)\n",
    "            if flag:\n",
    "                for i in v_arr:\n",
    "                    #print(\"iter\", iter)\n",
    "                    #print(np.vdot(v_n1, i), np.vdot(i, v_n1))\n",
    "                    h_n1_wave = h_n1_wave - np.vdot(i, v_n1) * i\n",
    "            h_n1 = h_n1_wave / np.linalg.norm(h_n1_wave)\n",
    "            v_arr.append(h_n1)\n",
    "            u_n = u_n - np.vdot(h_n1, u_n) * h_n1 #поменял\n",
    "        iter += 1\n",
    "        if iter % 2 == 0:\n",
    "            print(np.linalg.norm(u_n))\n",
    "    print(np.linalg.norm(u_n), \"iter:\", iter)\n",
    "    return vector_norm"
   ]
  },
  {
   "cell_type": "code",
   "execution_count": 98,
   "id": "attractive-rehabilitation",
   "metadata": {},
   "outputs": [
    {
     "name": "stdout",
     "output_type": "stream",
     "text": [
      "3.5743029692921575\n",
      "3.5743029692915935 iter: 3\n",
      "CPU times: user 47.3 ms, sys: 9.88 ms, total: 57.2 ms\n",
      "Wall time: 55.9 ms\n"
     ]
    }
   ],
   "source": [
    "%%time\n",
    "v_norm_10 = approximate_without_saving(x, y, 2, 2, 2, 10)"
   ]
  },
  {
   "cell_type": "code",
   "execution_count": 11,
   "id": "lonely-development",
   "metadata": {},
   "outputs": [
    {
     "name": "stdout",
     "output_type": "stream",
     "text": [
      "0.032973358571926625\n",
      "0.031922386921551464\n",
      "0.03192071421634754 iter: 43\n",
      "CPU times: user 5min 27s, sys: 7.9 s, total: 5min 35s\n",
      "Wall time: 5min 36s\n"
     ]
    }
   ],
   "source": [
    "%%time\n",
    "v_norm_9 = approximate_without_saving(x, y, 2, 2, 2, 9)"
   ]
  },
  {
   "cell_type": "code",
   "execution_count": 12,
   "id": "thorough-ambassador",
   "metadata": {},
   "outputs": [
    {
     "name": "stdout",
     "output_type": "stream",
     "text": [
      "0.03406282869962657\n",
      "0.030496766932683526\n",
      "0.03049673364642236 iter: 41\n",
      "CPU times: user 4min 39s, sys: 6.58 s, total: 4min 45s\n",
      "Wall time: 4min 45s\n"
     ]
    }
   ],
   "source": [
    "%%time\n",
    "v_norm_8 = approximate_without_saving(x, y, 2, 2, 2, 8)"
   ]
  },
  {
   "cell_type": "code",
   "execution_count": 13,
   "id": "handmade-marble",
   "metadata": {},
   "outputs": [
    {
     "name": "stdout",
     "output_type": "stream",
     "text": [
      "0.035555142869717324\n",
      "0.030552676670419537\n",
      "0.030498103192075465 iter: 46\n",
      "CPU times: user 4min 43s, sys: 5.15 s, total: 4min 48s\n",
      "Wall time: 4min 48s\n"
     ]
    }
   ],
   "source": [
    "%%time\n",
    "v_norm_7 = approximate_without_saving(x, y, 2, 2, 2, 7)"
   ]
  },
  {
   "cell_type": "code",
   "execution_count": 14,
   "id": "restricted-richardson",
   "metadata": {},
   "outputs": [
    {
     "name": "stdout",
     "output_type": "stream",
     "text": [
      "0.036400334041419895\n",
      "0.033521857598242395\n",
      "0.03344906747832819\n",
      "0.03344408829828711 iter: 74\n",
      "CPU times: user 7min 4s, sys: 6.68 s, total: 7min 11s\n",
      "Wall time: 7min 11s\n"
     ]
    }
   ],
   "source": [
    "%%time\n",
    "v_norm_6 = approximate_without_saving(x, y, 2, 2, 2, 6)"
   ]
  },
  {
   "cell_type": "code",
   "execution_count": 15,
   "id": "advanced-planner",
   "metadata": {},
   "outputs": [
    {
     "name": "stdout",
     "output_type": "stream",
     "text": [
      "0.04630431256518273\n",
      "0.03180308176856621\n",
      "0.03049750728257103\n",
      "0.030496354671552973 iter: 63\n",
      "CPU times: user 5min 8s, sys: 5.99 s, total: 5min 14s\n",
      "Wall time: 5min 14s\n"
     ]
    }
   ],
   "source": [
    "%%time\n",
    "v_norm_5 = approximate_without_saving(x, y, 2, 2, 2, 5)"
   ]
  },
  {
   "cell_type": "code",
   "execution_count": 16,
   "id": "grateful-overall",
   "metadata": {},
   "outputs": [
    {
     "name": "stdout",
     "output_type": "stream",
     "text": [
      "0.04723265381498327\n",
      "0.03326077535688199\n",
      "0.030672067782841723\n",
      "0.030496837794756877 iter: 79\n",
      "CPU times: user 5min 38s, sys: 8.45 s, total: 5min 46s\n",
      "Wall time: 5min 46s\n"
     ]
    }
   ],
   "source": [
    "%%time\n",
    "v_norm_4 = approximate_without_saving(x, y, 2, 2, 2, 4)"
   ]
  },
  {
   "cell_type": "code",
   "execution_count": 17,
   "id": "alleged-martin",
   "metadata": {},
   "outputs": [
    {
     "name": "stdout",
     "output_type": "stream",
     "text": [
      "0.04999109689465299\n",
      "0.0352646500909335\n",
      "0.03335884098026685\n",
      "0.03322514672667797\n",
      "0.03322041373065953\n",
      "0.0332199655641926 iter: 104\n",
      "CPU times: user 6min 20s, sys: 10.5 s, total: 6min 31s\n",
      "Wall time: 6min 31s\n"
     ]
    }
   ],
   "source": [
    "%%time\n",
    "v_norm_3 = approximate_without_saving(x, y, 2, 2, 2, 3)"
   ]
  },
  {
   "cell_type": "code",
   "execution_count": 18,
   "id": "pretty-workplace",
   "metadata": {},
   "outputs": [
    {
     "name": "stdout",
     "output_type": "stream",
     "text": [
      "0.05451432083622251\n",
      "0.047015227732917525\n",
      "0.03512062972672772\n",
      "0.03316204702679093\n",
      "0.031148132074982907\n",
      "0.030688898727957502\n",
      "0.030551531403765344\n",
      "0.03050119025065478 iter: 146\n",
      "CPU times: user 7min 23s, sys: 11.2 s, total: 7min 34s\n",
      "Wall time: 7min 34s\n"
     ]
    }
   ],
   "source": [
    "%%time\n",
    "v_norm_2 = approximate_without_saving(x, y, 2, 2, 2, 2)"
   ]
  },
  {
   "cell_type": "code",
   "execution_count": 19,
   "id": "reflected-saver",
   "metadata": {},
   "outputs": [
    {
     "name": "stdout",
     "output_type": "stream",
     "text": [
      "0.06538489239939564\n",
      "0.05583293902304306\n",
      "0.05003677189411938\n",
      "0.04739865688126172\n",
      "0.04217663780605666\n",
      "0.03645991573276225\n",
      "0.03470083535171343\n",
      "0.03308249723319386\n",
      "0.03222761634072152\n",
      "0.03144936901175746\n",
      "0.031121265956730707\n",
      "0.030736246638154663\n",
      "0.03059678039165769\n",
      "0.030519390722423607\n",
      "0.030508246876823138 iter: 286\n",
      "CPU times: user 11min 28s, sys: 21.4 s, total: 11min 49s\n",
      "Wall time: 11min 49s\n"
     ]
    }
   ],
   "source": [
    "%%time\n",
    "v_norm_1 = approximate_without_saving(x, y, 2, 2, 2, 1)"
   ]
  },
  {
   "cell_type": "code",
   "execution_count": null,
   "id": "civic-orlando",
   "metadata": {},
   "outputs": [],
   "source": []
  },
  {
   "cell_type": "markdown",
   "id": "metric-powder",
   "metadata": {},
   "source": [
    "теперь проверим 232"
   ]
  },
  {
   "cell_type": "code",
   "execution_count": 20,
   "id": "raising-republic",
   "metadata": {},
   "outputs": [
    {
     "name": "stdout",
     "output_type": "stream",
     "text": [
      "0.06340801957967318\n",
      "0.05294115954557857\n",
      "0.04895243750411572\n",
      "0.04581409329763775\n",
      "0.041204096505075456\n",
      "0.0390550771454026\n",
      "0.03721061801891924\n",
      "0.03621513663597361\n",
      "0.033117436806105245\n",
      "0.03154886503271468\n",
      "0.031218075296909727\n",
      "0.03101640474307857\n",
      "0.030651283158647062\n",
      "0.030149204919643475\n",
      "0.029570380697486586\n",
      "0.02938245527404189\n",
      "0.02919347300134791\n",
      "0.028727305349862457\n",
      "0.028482854299862866\n",
      "0.026672561688625716\n",
      "0.026248335888725573\n",
      "0.0260480677546165\n",
      "0.025892810877166404\n",
      "0.02545275731115783\n",
      "0.02538530093791104\n",
      "0.025368534633881692 iter: 504\n",
      "CPU times: user 33min 53s, sys: 45.9 s, total: 34min 39s\n",
      "Wall time: 34min 39s\n"
     ]
    }
   ],
   "source": [
    "%%time\n",
    "u_norm_1 = approximate_without_saving(x, y, 2, 3, 2, 1)"
   ]
  },
  {
   "cell_type": "code",
   "execution_count": 21,
   "id": "consecutive-prerequisite",
   "metadata": {},
   "outputs": [
    {
     "name": "stdout",
     "output_type": "stream",
     "text": [
      "0.05477046782068738\n",
      "0.04585733333292601\n",
      "0.0375714515501603\n",
      "0.03449967978176309\n",
      "0.03345518570864272\n",
      "0.030814127733479094\n",
      "0.02949603721920709\n",
      "0.028888392947064252\n",
      "0.02765897220819871\n",
      "0.026160232901978414\n",
      "0.025796874636584203\n",
      "0.025426958073296962\n",
      "0.025276400945566116\n",
      "0.025216147177577287\n",
      "0.025201164152449676\n",
      "0.025201164152449676 iter: 300\n",
      "CPU times: user 24min 49s, sys: 32.9 s, total: 25min 22s\n",
      "Wall time: 25min 22s\n"
     ]
    }
   ],
   "source": [
    "%%time\n",
    "u_norm_2 = approximate_without_saving(x, y, 2, 3, 2, 2)"
   ]
  },
  {
   "cell_type": "code",
   "execution_count": 22,
   "id": "computational-syndrome",
   "metadata": {},
   "outputs": [
    {
     "name": "stdout",
     "output_type": "stream",
     "text": [
      "0.050583964452151194\n",
      "0.03818786285598502\n",
      "0.03301237437960277\n",
      "0.0304322551426849\n",
      "0.02922274920993202\n",
      "0.028351962209084956\n",
      "0.02623951516642002\n",
      "0.02547628134450232\n",
      "0.025245496917992785\n",
      "0.025201105819590022\n",
      "0.025200871714567568 iter: 202\n",
      "CPU times: user 19min 46s, sys: 19.9 s, total: 20min 5s\n",
      "Wall time: 20min 5s\n"
     ]
    }
   ],
   "source": [
    "%%time\n",
    "u_norm_3 = approximate_without_saving(x, y, 2, 3, 2, 3)"
   ]
  },
  {
   "cell_type": "code",
   "execution_count": 23,
   "id": "smaller-bracket",
   "metadata": {},
   "outputs": [
    {
     "name": "stdout",
     "output_type": "stream",
     "text": [
      "0.04091469963332121\n",
      "0.033244107186598974\n",
      "0.030710085832462732\n",
      "0.029299515772961224\n",
      "0.029091011838626443\n",
      "0.02908208989267756 iter: 115\n",
      "CPU times: user 12min 40s, sys: 13.2 s, total: 12min 53s\n",
      "Wall time: 12min 53s\n"
     ]
    }
   ],
   "source": [
    "%%time\n",
    "u_norm_4 = approximate_without_saving(x, y, 2, 3, 2, 4)"
   ]
  },
  {
   "cell_type": "code",
   "execution_count": 24,
   "id": "homeless-china",
   "metadata": {},
   "outputs": [
    {
     "name": "stdout",
     "output_type": "stream",
     "text": [
      "0.04196142732619696\n",
      "0.03142788495565262\n",
      "0.029662926254672265\n",
      "0.026551171582206406\n",
      "0.02533283244225591\n",
      "0.025201097066896615\n",
      "0.02520089180249685 iter: 122\n",
      "CPU times: user 15min 37s, sys: 11.9 s, total: 15min 49s\n",
      "Wall time: 15min 49s\n"
     ]
    }
   ],
   "source": [
    "%%time\n",
    "u_norm_5 = approximate_without_saving(x, y, 2, 3, 2, 5)"
   ]
  },
  {
   "cell_type": "code",
   "execution_count": 25,
   "id": "standing-championship",
   "metadata": {},
   "outputs": [
    {
     "name": "stdout",
     "output_type": "stream",
     "text": [
      "0.03681305823138892\n",
      "0.030685687932389048\n",
      "0.02838548126243456\n",
      "0.025394743971576185\n",
      "0.02520143270341411\n",
      "0.02520087228307962 iter: 102\n",
      "CPU times: user 14min 36s, sys: 16.3 s, total: 14min 52s\n",
      "Wall time: 14min 53s\n"
     ]
    }
   ],
   "source": [
    "%%time\n",
    "u_norm_6 = approximate_without_saving(x, y, 2, 3, 2, 6)"
   ]
  },
  {
   "cell_type": "code",
   "execution_count": 26,
   "id": "working-threshold",
   "metadata": {},
   "outputs": [
    {
     "name": "stdout",
     "output_type": "stream",
     "text": [
      "0.03665360721281596\n",
      "0.029549745612625453\n",
      "0.026362963391365197\n",
      "0.025214015748717962\n",
      "0.025200871727075438 iter: 88\n",
      "CPU times: user 13min 44s, sys: 12.2 s, total: 13min 56s\n",
      "Wall time: 13min 56s\n"
     ]
    }
   ],
   "source": [
    "%%time\n",
    "u_norm_7 = approximate_without_saving(x, y, 2, 3, 2, 7)"
   ]
  },
  {
   "cell_type": "code",
   "execution_count": 27,
   "id": "operating-ozone",
   "metadata": {},
   "outputs": [
    {
     "name": "stdout",
     "output_type": "stream",
     "text": [
      "0.03391716859442852\n",
      "0.029093566144202134\n",
      "0.02877658701456059\n",
      "0.028774754099884444 iter: 69\n",
      "CPU times: user 11min 47s, sys: 8.99 s, total: 11min 56s\n",
      "Wall time: 11min 56s\n"
     ]
    }
   ],
   "source": [
    "%%time\n",
    "u_norm_8 = approximate_without_saving(x, y, 2, 3, 2, 8)"
   ]
  },
  {
   "cell_type": "code",
   "execution_count": 28,
   "id": "independent-jaguar",
   "metadata": {},
   "outputs": [
    {
     "name": "stdout",
     "output_type": "stream",
     "text": [
      "0.03390070910370997\n",
      "0.027283848994540647\n",
      "0.025245789691537596\n",
      "0.025200898663341006 iter: 68\n",
      "CPU times: user 12min 40s, sys: 12.2 s, total: 12min 52s\n",
      "Wall time: 12min 52s\n"
     ]
    }
   ],
   "source": [
    "%%time\n",
    "u_norm_9 = approximate_without_saving(x, y, 2, 3, 2, 9)"
   ]
  },
  {
   "cell_type": "code",
   "execution_count": 29,
   "id": "liquid-evaluation",
   "metadata": {},
   "outputs": [
    {
     "name": "stdout",
     "output_type": "stream",
     "text": [
      "0.03294134324475522\n",
      "0.02656569253017662\n",
      "0.02520206056489619\n",
      "0.02520116123914107 iter: 62\n",
      "CPU times: user 12min 26s, sys: 10.7 s, total: 12min 37s\n",
      "Wall time: 12min 37s\n"
     ]
    }
   ],
   "source": [
    "%%time\n",
    "u_norm_10 = approximate_without_saving(x, y, 2, 3, 2, 10)"
   ]
  },
  {
   "cell_type": "code",
   "execution_count": 30,
   "id": "senior-hepatitis",
   "metadata": {},
   "outputs": [
    {
     "name": "stdout",
     "output_type": "stream",
     "text": [
      "0.03124165194221009\n",
      "0.025882454772714707\n",
      "0.02520093655356115 iter: 56\n",
      "CPU times: user 12min 4s, sys: 10.7 s, total: 12min 15s\n",
      "Wall time: 12min 15s\n"
     ]
    }
   ],
   "source": [
    "%%time\n",
    "u_norm_11 = approximate_without_saving(x, y, 2, 3, 2, 11)"
   ]
  },
  {
   "cell_type": "code",
   "execution_count": 31,
   "id": "silent-tracy",
   "metadata": {},
   "outputs": [
    {
     "name": "stdout",
     "output_type": "stream",
     "text": [
      "0.030437564487109808\n",
      "0.027093135456476344\n",
      "0.027057815128432628 iter: 57\n",
      "CPU times: user 13min 26s, sys: 8.88 s, total: 13min 34s\n",
      "Wall time: 13min 35s\n"
     ]
    }
   ],
   "source": [
    "%%time\n",
    "u_norm_12 = approximate_without_saving(x, y, 2, 3, 2, 12)"
   ]
  },
  {
   "cell_type": "markdown",
   "id": "latter-routine",
   "metadata": {},
   "source": [
    "снова 222"
   ]
  },
  {
   "cell_type": "code",
   "execution_count": 32,
   "id": "judicial-lithuania",
   "metadata": {},
   "outputs": [
    {
     "name": "stdout",
     "output_type": "stream",
     "text": [
      "0.03303774774660286\n",
      "0.03296737804808049\n",
      "0.0329627196208126\n",
      "0.03296200493089325 iter: 65\n",
      "CPU times: user 15min 10s, sys: 29.2 s, total: 15min 39s\n",
      "Wall time: 15min 44s\n"
     ]
    }
   ],
   "source": [
    "%%time\n",
    "v_norm_15 = approximate_without_saving(x, y, 2, 2, 2, 15)"
   ]
  },
  {
   "cell_type": "code",
   "execution_count": 33,
   "id": "historical-computer",
   "metadata": {},
   "outputs": [
    {
     "name": "stdout",
     "output_type": "stream",
     "text": [
      "0.03051797065270238\n",
      "0.03051797065270238 iter: 20\n",
      "CPU times: user 4min 53s, sys: 2.88 s, total: 4min 56s\n",
      "Wall time: 4min 56s\n"
     ]
    }
   ],
   "source": [
    "%%time\n",
    "v_norm_20 = approximate_without_saving(x, y, 2, 2, 2, 20)"
   ]
  },
  {
   "cell_type": "code",
   "execution_count": 34,
   "id": "framed-senate",
   "metadata": {},
   "outputs": [
    {
     "name": "stdout",
     "output_type": "stream",
     "text": [
      "0.030502605763100467 iter: 15\n",
      "CPU times: user 4min 28s, sys: 3.3 s, total: 4min 31s\n",
      "Wall time: 4min 31s\n"
     ]
    }
   ],
   "source": [
    "%%time\n",
    "v_norm_25 = approximate_without_saving(x, y, 2, 2, 2, 25)"
   ]
  },
  {
   "cell_type": "code",
   "execution_count": 35,
   "id": "linear-russia",
   "metadata": {},
   "outputs": [
    {
     "name": "stdout",
     "output_type": "stream",
     "text": [
      "0.030580317012868598 iter: 13\n",
      "CPU times: user 5min 26s, sys: 3.51 s, total: 5min 30s\n",
      "Wall time: 5min 30s\n"
     ]
    }
   ],
   "source": [
    "%%time\n",
    "v_norm_30 = approximate_without_saving(x, y, 2, 2, 2, 35)"
   ]
  },
  {
   "cell_type": "code",
   "execution_count": 36,
   "id": "latter-drunk",
   "metadata": {},
   "outputs": [
    {
     "name": "stdout",
     "output_type": "stream",
     "text": [
      "0.030580317012868598 iter: 13\n",
      "CPU times: user 5min 25s, sys: 3.62 s, total: 5min 29s\n",
      "Wall time: 5min 29s\n"
     ]
    }
   ],
   "source": [
    "%%time\n",
    "v_norm_35 = approximate_without_saving(x, y, 2, 2, 2, 35)"
   ]
  },
  {
   "cell_type": "code",
   "execution_count": 37,
   "id": "tropical-flavor",
   "metadata": {},
   "outputs": [
    {
     "name": "stdout",
     "output_type": "stream",
     "text": [
      "0.030518272621512726 iter: 11\n",
      "CPU times: user 5min 12s, sys: 2.32 s, total: 5min 14s\n",
      "Wall time: 5min 14s\n"
     ]
    }
   ],
   "source": [
    "%%time\n",
    "v_norm_40 = approximate_without_saving(x, y, 2, 2, 2, 40)"
   ]
  },
  {
   "cell_type": "code",
   "execution_count": 38,
   "id": "accessible-athens",
   "metadata": {},
   "outputs": [
    {
     "name": "stdout",
     "output_type": "stream",
     "text": [
      "0.048979858982268996\n",
      "0.048979556811380665 iter: 23\n",
      "CPU times: user 14min 57s, sys: 17.7 s, total: 15min 14s\n",
      "Wall time: 15min 17s\n"
     ]
    }
   ],
   "source": [
    "%%time\n",
    "v_norm_45 = approximate_without_saving(x, y, 2, 2, 2, 45)"
   ]
  },
  {
   "cell_type": "code",
   "execution_count": 39,
   "id": "earlier-running",
   "metadata": {},
   "outputs": [
    {
     "name": "stdout",
     "output_type": "stream",
     "text": [
      "0.030579067713200053 iter: 11\n",
      "CPU times: user 6min 37s, sys: 2.46 s, total: 6min 39s\n",
      "Wall time: 6min 39s\n"
     ]
    }
   ],
   "source": [
    "%%time\n",
    "v_norm_50 = approximate_without_saving(x, y, 2, 2, 2, 50)"
   ]
  },
  {
   "cell_type": "code",
   "execution_count": 43,
   "id": "indirect-reputation",
   "metadata": {},
   "outputs": [
    {
     "name": "stdout",
     "output_type": "stream",
     "text": [
      "0.030516257429164136 iter: 9\n",
      "CPU times: user 4min 44s, sys: 2.06 s, total: 4min 46s\n",
      "Wall time: 4min 46s\n"
     ]
    }
   ],
   "source": [
    "%%time\n",
    "v_norm_46 = approximate_without_saving(x, y, 2, 2, 2, 46)"
   ]
  },
  {
   "cell_type": "code",
   "execution_count": 44,
   "id": "australian-viewer",
   "metadata": {},
   "outputs": [
    {
     "name": "stdout",
     "output_type": "stream",
     "text": [
      "0.0305408415264763 iter: 7\n",
      "CPU times: user 5min 41s, sys: 4.48 s, total: 5min 45s\n",
      "Wall time: 5min 45s\n"
     ]
    }
   ],
   "source": [
    "%%time\n",
    "v_norm_70 = approximate_without_saving(x, y, 2, 2, 2, 70)"
   ]
  },
  {
   "cell_type": "code",
   "execution_count": 58,
   "id": "norwegian-count",
   "metadata": {},
   "outputs": [
    {
     "name": "stdout",
     "output_type": "stream",
     "text": [
      "0.047164945337547594\n",
      "0.04716439560326817 iter: 25\n",
      "CPU times: user 48min 31s, sys: 42min 54s, total: 1h 31min 25s\n",
      "Wall time: 4h 36min 49s\n"
     ]
    }
   ],
   "source": [
    "%%time\n",
    "v_norm_90 = approximate_without_saving(x, y, 2, 2, 2, 90)"
   ]
  },
  {
   "cell_type": "code",
   "execution_count": 53,
   "id": "comprehensive-coordinate",
   "metadata": {},
   "outputs": [
    {
     "name": "stdout",
     "output_type": "stream",
     "text": [
      "0.03082540933033013 iter: 13\n",
      "CPU times: user 23min 32s, sys: 3min 21s, total: 26min 54s\n",
      "Wall time: 34min 51s\n"
     ]
    }
   ],
   "source": [
    "%%time\n",
    "v_norm_110 = approximate_without_saving(x, y, 2, 2, 2, 110)##########redo"
   ]
  },
  {
   "cell_type": "code",
   "execution_count": 56,
   "id": "controversial-knock",
   "metadata": {},
   "outputs": [
    {
     "name": "stdout",
     "output_type": "stream",
     "text": [
      "0.030719150422633793 iter: 11\n",
      "CPU times: user 23min 13s, sys: 3min 56s, total: 27min 9s\n",
      "Wall time: 35min 5s\n"
     ]
    }
   ],
   "source": [
    "%%time\n",
    "v_norm_130 = approximate_without_saving(x, y, 2, 2, 2, 130)"
   ]
  },
  {
   "cell_type": "code",
   "execution_count": 57,
   "id": "confused-depth",
   "metadata": {},
   "outputs": [
    {
     "name": "stdout",
     "output_type": "stream",
     "text": [
      "0.04835784807335127 iter: 14\n",
      "CPU times: user 44min 13s, sys: 36min 7s, total: 1h 20min 20s\n",
      "Wall time: 4h 1min 7s\n"
     ]
    }
   ],
   "source": [
    "%%time\n",
    "v_norm_150 = approximate_without_saving(x, y, 2, 2, 2, 150)"
   ]
  },
  {
   "cell_type": "markdown",
   "id": "active-rover",
   "metadata": {},
   "source": [
    "232"
   ]
  },
  {
   "cell_type": "code",
   "execution_count": 59,
   "id": "independent-actress",
   "metadata": {},
   "outputs": [
    {
     "name": "stdout",
     "output_type": "stream",
     "text": [
      "0.02946601129389253\n",
      "0.025203837822797913\n",
      "0.02520290379414541 iter: 43\n",
      "CPU times: user 11min 53s, sys: 8.69 s, total: 12min 2s\n",
      "Wall time: 12min 2s\n"
     ]
    }
   ],
   "source": [
    "%%time\n",
    "u_norm_15 = approximate_without_saving(x, y, 2, 3, 2, 15)"
   ]
  },
  {
   "cell_type": "code",
   "execution_count": 60,
   "id": "unlimited-joining",
   "metadata": {},
   "outputs": [
    {
     "name": "stdout",
     "output_type": "stream",
     "text": [
      "0.02901558599757004\n",
      "0.02898064007944722\n",
      "0.028980549968284124 iter: 41\n",
      "CPU times: user 15min 6s, sys: 9.65 s, total: 15min 16s\n",
      "Wall time: 15min 16s\n"
     ]
    }
   ],
   "source": [
    "%%time\n",
    "u_norm_20 = approximate_without_saving(x, y, 2, 3, 2, 20)"
   ]
  },
  {
   "cell_type": "code",
   "execution_count": 61,
   "id": "noticed-anaheim",
   "metadata": {},
   "outputs": [
    {
     "name": "stdout",
     "output_type": "stream",
     "text": [
      "0.02520601490632975\n",
      "0.02520580083678037 iter: 22\n",
      "CPU times: user 11min 14s, sys: 5.16 s, total: 11min 19s\n",
      "Wall time: 11min 19s\n"
     ]
    }
   ],
   "source": [
    "%%time\n",
    "u_norm_30 = approximate_without_saving(x, y, 2, 3, 2, 30)"
   ]
  },
  {
   "cell_type": "code",
   "execution_count": 62,
   "id": "interested-porcelain",
   "metadata": {},
   "outputs": [
    {
     "name": "stdout",
     "output_type": "stream",
     "text": [
      "0.03008427298883964\n",
      "0.030083332131121295 iter: 27\n",
      "CPU times: user 20min 11s, sys: 1min 1s, total: 21min 12s\n",
      "Wall time: 21min 27s\n"
     ]
    }
   ],
   "source": [
    "%%time\n",
    "u_norm_40 = approximate_without_saving(x, y, 2, 3, 2, 40)"
   ]
  },
  {
   "cell_type": "code",
   "execution_count": 91,
   "id": "worldwide-river",
   "metadata": {},
   "outputs": [
    {
     "name": "stdout",
     "output_type": "stream",
     "text": [
      "3.573714699643886\n",
      "3.573714607117253 iter: 3\n",
      "CPU times: user 175 ms, sys: 3.99 ms, total: 179 ms\n",
      "Wall time: 177 ms\n"
     ]
    }
   ],
   "source": [
    "%%time\n",
    "u_norm_50 = approximate_without_saving(x, y, 2, 3, 2, 50)"
   ]
  },
  {
   "cell_type": "code",
   "execution_count": 64,
   "id": "dependent-bicycle",
   "metadata": {},
   "outputs": [
    {
     "name": "stdout",
     "output_type": "stream",
     "text": [
      "0.03003019261887322 iter: 19\n",
      "CPU times: user 20min 37s, sys: 27.5 s, total: 21min 5s\n",
      "Wall time: 21min 12s\n"
     ]
    }
   ],
   "source": [
    "%%time\n",
    "u_norm_60 = approximate_without_saving(x, y, 2, 3, 2, 60)"
   ]
  },
  {
   "cell_type": "code",
   "execution_count": 65,
   "id": "foster-chorus",
   "metadata": {},
   "outputs": [
    {
     "name": "stdout",
     "output_type": "stream",
     "text": [
      "0.025273434095779396 iter: 12\n",
      "CPU times: user 14min 8s, sys: 7.48 s, total: 14min 16s\n",
      "Wall time: 14min 16s\n"
     ]
    }
   ],
   "source": [
    "%%time\n",
    "u_norm_70 = approximate_without_saving(x, y, 2, 3, 2, 70)"
   ]
  },
  {
   "cell_type": "code",
   "execution_count": 75,
   "id": "solar-interval",
   "metadata": {},
   "outputs": [
    {
     "name": "stdout",
     "output_type": "stream",
     "text": [
      "0.02522446966753775 iter: 11\n",
      "CPU times: user 16min 50s, sys: 4.58 s, total: 16min 55s\n",
      "Wall time: 16min 55s\n"
     ]
    }
   ],
   "source": [
    "%%time\n",
    "u_norm_90 = approximate_without_saving(x, y, 2, 3, 2, 90)"
   ]
  },
  {
   "cell_type": "code",
   "execution_count": 78,
   "id": "jewish-suggestion",
   "metadata": {},
   "outputs": [
    {
     "name": "stdout",
     "output_type": "stream",
     "text": [
      "0.03136879840079865\n",
      "0.025886892043655633\n",
      "0.025527822050856384\n",
      "0.025525024100872488\n",
      "0.02552430477841664\n",
      "0.025523976136340908\n",
      "0.025523882825292426 iter: 13\n",
      "CPU times: user 28min 37s, sys: 7min 6s, total: 35min 43s\n",
      "Wall time: 49min 28s\n"
     ]
    }
   ],
   "source": [
    "%%time\n",
    "u_norm_110 = approximate_without_saving(x, y, 2, 3, 2, 110)"
   ]
  },
  {
   "cell_type": "code",
   "execution_count": 79,
   "id": "meaning-judge",
   "metadata": {},
   "outputs": [
    {
     "name": "stdout",
     "output_type": "stream",
     "text": [
      "0.030075795920672735\n",
      "0.025382013335940833\n",
      "0.025328951360199227\n",
      "0.025328268914392934\n",
      "0.02532805953007113\n",
      "0.02532805953007113 iter: 10\n",
      "CPU times: user 24min 27s, sys: 1min 4s, total: 25min 32s\n",
      "Wall time: 25min 47s\n"
     ]
    }
   ],
   "source": [
    "%%time\n",
    "u_norm_130 = approximate_without_saving(x, y, 2, 3, 2, 130)"
   ]
  },
  {
   "cell_type": "code",
   "execution_count": 80,
   "id": "dressed-drain",
   "metadata": {},
   "outputs": [
    {
     "name": "stdout",
     "output_type": "stream",
     "text": [
      "0.02943740259490859\n",
      "0.02553123248931839\n",
      "0.025528758501553138\n",
      "0.025528422403289425\n",
      "0.02552834337344036 iter: 9\n",
      "CPU times: user 25min 35s, sys: 1min 40s, total: 27min 15s\n",
      "Wall time: 28min 13s\n"
     ]
    }
   ],
   "source": [
    "%%time\n",
    "u_norm_150 = approximate_without_saving(x, y, 2, 3, 2, 150)"
   ]
  },
  {
   "cell_type": "code",
   "execution_count": 86,
   "id": "eastern-prime",
   "metadata": {},
   "outputs": [],
   "source": [
    "x = [1, 2, 3, 4, 5, 6, 7, 8, 9, 10, 11, 12, 15, 20, 30, 40, 50, 60, 70, 90, 110, 130, 150]\n",
    "y = [34, 25, 20, 13, 16, 15, 14, 12, 13, 12.5, 12.25, 13.5, 12, 15, 11, 21.5, 11.5, 21, 14, 17, 28, 25, 28]"
   ]
  },
  {
   "cell_type": "code",
   "execution_count": 88,
   "id": "anonymous-exclusive",
   "metadata": {},
   "outputs": [
    {
     "name": "stderr",
     "output_type": "stream",
     "text": [
      "No handles with labels found to put in legend.\n"
     ]
    },
    {
     "data": {
      "text/plain": [
       "<matplotlib.legend.Legend at 0x115b04040>"
      ]
     },
     "execution_count": 88,
     "metadata": {},
     "output_type": "execute_result"
    },
    {
     "data": {
      "image/png": "[encoded data removed]",
      "text/plain": [
       "<Figure size 432x288 with 1 Axes>"
      ]
     },
     "metadata": {
      "needs_background": "light"
     },
     "output_type": "display_data"
    }
   ],
   "source": [
    "import matplotlib.pyplot as plt\n",
    "fig, ax = plt.subplots()\n",
    "plt.plot(x, y)\n",
    "ax.set_xlabel('Количество частей')\n",
    "ax.set_ylabel('Время работы(мин)')\n",
    "ax.legend()"
   ]
  },
  {
   "cell_type": "code",
   "execution_count": null,
   "id": "numerous-celebrity",
   "metadata": {},
   "outputs": [],
   "source": []
  }
 ],
 "metadata": {
  "kernelspec": {
   "display_name": "Python 3",
   "language": "python",
   "name": "python3"
  },
  "language_info": {
   "codemirror_mode": {
    "name": "ipython",
    "version": 3
   },
   "file_extension": ".py",
   "mimetype": "text/x-python",
   "name": "python",
   "nbconvert_exporter": "python",
   "pygments_lexer": "ipython3",
   "version": "3.9.1"
  }
 },
 "nbformat": 4,
 "nbformat_minor": 5
}
